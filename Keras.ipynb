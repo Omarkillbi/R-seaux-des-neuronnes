{
  "nbformat": 4,
  "nbformat_minor": 0,
  "metadata": {
    "colab": {
      "name": "Keras.ipynb",
      "provenance": [],
      "collapsed_sections": []
    },
    "kernelspec": {
      "name": "python3",
      "display_name": "Python 3"
    },
    "language_info": {
      "name": "python"
    }
  },
  "cells": [
    {
      "cell_type": "code",
      "metadata": {
        "id": "YwzZ8yd0_pln"
      },
      "source": [
        "import keras"
      ],
      "execution_count": 1,
      "outputs": []
    },
    {
      "cell_type": "code",
      "metadata": {
        "colab": {
          "base_uri": "https://localhost:8080/"
        },
        "id": "_CbJA0SF_rJa",
        "outputId": "e2e971d4-7865-4da3-e604-a82c442a2f80"
      },
      "source": [
        "dir(keras.optimizers)"
      ],
      "execution_count": 2,
      "outputs": [
        {
          "output_type": "execute_result",
          "data": {
            "text/plain": [
              "['Optimizer',\n",
              " 'TFOptimizer',\n",
              " '__builtins__',\n",
              " '__cached__',\n",
              " '__doc__',\n",
              " '__file__',\n",
              " '__loader__',\n",
              " '__name__',\n",
              " '__package__',\n",
              " '__spec__',\n",
              " 'adadelta_v2',\n",
              " 'adagrad_v2',\n",
              " 'adam_v2',\n",
              " 'adamax_v2',\n",
              " 'backend',\n",
              " 'deserialize',\n",
              " 'deserialize_keras_object',\n",
              " 'ftrl',\n",
              " 'get',\n",
              " 'gradient_descent_v2',\n",
              " 'keras_export',\n",
              " 'nadam_v2',\n",
              " 'optimizer_v2',\n",
              " 'rmsprop_v2',\n",
              " 'serialize',\n",
              " 'serialize_keras_object',\n",
              " 'tf']"
            ]
          },
          "metadata": {},
          "execution_count": 2
        }
      ]
    },
    {
      "cell_type": "code",
      "metadata": {
        "id": "pxqN8yrd8WSE"
      },
      "source": [
        "from keras.datasets import cifar10\n",
        "from keras.models import Sequential\n",
        "from keras.layers.core import Dense, Activation\n",
        "from tensorflow.keras.optimizers import SGD\n",
        "from keras.utils import np_utils\n",
        "from sklearn.preprocessing import LabelBinarizer\n",
        "from sklearn.metrics import classification_report\n",
        "import matplotlib.pyplot as plt\n",
        "import numpy as np"
      ],
      "execution_count": 3,
      "outputs": []
    },
    {
      "cell_type": "code",
      "metadata": {
        "id": "Yixr3MD48ZX8",
        "colab": {
          "base_uri": "https://localhost:8080/"
        },
        "outputId": "3ab2fb19-2382-41bb-cd91-64cf70a56346"
      },
      "source": [
        "##--- 1) Téléchargement des données\n",
        "((trainX, trainY), (testX, testY)) = cifar10.load_data()"
      ],
      "execution_count": 4,
      "outputs": [
        {
          "output_type": "stream",
          "name": "stdout",
          "text": [
            "Downloading data from https://www.cs.toronto.edu/~kriz/cifar-10-python.tar.gz\n",
            "170500096/170498071 [==============================] - 2s 0us/step\n",
            "170508288/170498071 [==============================] - 2s 0us/step\n"
          ]
        }
      ]
    },
    {
      "cell_type": "code",
      "metadata": {
        "colab": {
          "base_uri": "https://localhost:8080/",
          "height": 283
        },
        "id": "FGcbC6rfBCti",
        "outputId": "a99e15eb-742a-4894-bef5-ff08fe9700b9"
      },
      "source": [
        "plt.imshow(trainX[5, :, :, :])"
      ],
      "execution_count": 5,
      "outputs": [
        {
          "output_type": "execute_result",
          "data": {
            "text/plain": [
              "<matplotlib.image.AxesImage at 0x7f7998b25d90>"
            ]
          },
          "metadata": {},
          "execution_count": 5
        },
        {
          "output_type": "display_data",
          "data": {
            "image/png": "[encoded data removed]",
            "text/plain": [
              "<Figure size 432x288 with 1 Axes>"
            ]
          },
          "metadata": {
            "needs_background": "light"
          }
        }
      ]
    },
    {
      "cell_type": "code",
      "metadata": {
        "colab": {
          "base_uri": "https://localhost:8080/"
        },
        "id": "cVxkKgorAwOf",
        "outputId": "71e9d8f3-45b1-48e0-9ebd-beb0949a5f41"
      },
      "source": [
        "trainX.shape"
      ],
      "execution_count": 6,
      "outputs": [
        {
          "output_type": "execute_result",
          "data": {
            "text/plain": [
              "(50000, 32, 32, 3)"
            ]
          },
          "metadata": {},
          "execution_count": 6
        }
      ]
    },
    {
      "cell_type": "code",
      "metadata": {
        "id": "ZxyihHn1-hGF"
      },
      "source": [
        "##--- 2) Préparation des données\n",
        "##mise en forme (vecteur : MLP agit sur des vecteurs et non des matrices)\n",
        "taille_im=trainX.shape[1]*trainX.shape[2]*trainX.shape[3]\n",
        "trainX = trainX.reshape((trainX.shape[0], taille_im))\n",
        "testX = testX.reshape((testX.shape[0], taille_im))"
      ],
      "execution_count": 7,
      "outputs": []
    },
    {
      "cell_type": "code",
      "metadata": {
        "id": "jX5PPOGW_mfA"
      },
      "source": [
        "## normalisation (moyenne=0, écart type=1 ==> Gaussienne centrée)\n",
        "trainX = (trainX - np.mean(trainX)) / np.std(trainX)\n",
        "testX = (testX - np.mean(testX)) / np.std(testX)"
      ],
      "execution_count": 8,
      "outputs": []
    },
    {
      "cell_type": "code",
      "metadata": {
        "id": "qQJIPkZyAQ0t"
      },
      "source": [
        "## préparation de la cible (vecteur --> matrice binaire : one-hot coding)\n",
        "lb = LabelBinarizer()\n",
        "trainY = lb.fit_transform(trainY)\n",
        "testY = lb.transform(testY)\n",
        "labelNames = [\"airplane\", \"automobile\", \"bird\", \"cat\", \"deer\",\"dog\", \"frog\", \"horse\", \"ship\", \"truck\"]"
      ],
      "execution_count": 9,
      "outputs": []
    },
    {
      "cell_type": "code",
      "metadata": {
        "colab": {
          "base_uri": "https://localhost:8080/"
        },
        "id": "6yKlA1fADxPa",
        "outputId": "85b2326e-c497-408a-d74f-e40e9c4316e9"
      },
      "source": [
        "print(trainY)"
      ],
      "execution_count": 10,
      "outputs": [
        {
          "output_type": "stream",
          "name": "stdout",
          "text": [
            "[[0 0 0 ... 0 0 0]\n",
            " [0 0 0 ... 0 0 1]\n",
            " [0 0 0 ... 0 0 1]\n",
            " ...\n",
            " [0 0 0 ... 0 0 1]\n",
            " [0 1 0 ... 0 0 0]\n",
            " [0 1 0 ... 0 0 0]]\n"
          ]
        }
      ]
    },
    {
      "cell_type": "code",
      "metadata": {
        "id": "3cR7aOjEAV13"
      },
      "source": [
        "##--- 3) Architecture du modèle\n",
        "model=Sequential()\n",
        "model.add(Dense(512, input_shape=(3072,), activation = \"relu\"))\n",
        "model.add(Dense(120, activation = \"relu\"))\n",
        "model.add(Dense(10, activation = \"softmax\"))"
      ],
      "execution_count": 11,
      "outputs": []
    },
    {
      "cell_type": "code",
      "metadata": {
        "colab": {
          "base_uri": "https://localhost:8080/",
          "height": 660
        },
        "id": "d0RczDSrAhh-",
        "outputId": "00410eda-e1a5-4253-ea83-48d64ed72c0a"
      },
      "source": [
        "from keras.utils.vis_utils import plot_model\n",
        "\n",
        "model.summary() # résumé\n",
        "plot_model(model, show_shapes=True, rankdir='TB', to_file='model_cifar10.png')"
      ],
      "execution_count": 12,
      "outputs": [
        {
          "output_type": "stream",
          "name": "stdout",
          "text": [
            "Model: \"sequential\"\n",
            "_________________________________________________________________\n",
            "Layer (type)                 Output Shape              Param #   \n",
            "=================================================================\n",
            "dense (Dense)                (None, 512)               1573376   \n",
            "_________________________________________________________________\n",
            "dense_1 (Dense)              (None, 120)               61560     \n",
            "_________________________________________________________________\n",
            "dense_2 (Dense)              (None, 10)                1210      \n",
            "=================================================================\n",
            "Total params: 1,636,146\n",
            "Trainable params: 1,636,146\n",
            "Non-trainable params: 0\n",
            "_________________________________________________________________\n"
          ]
        },
        {
          "output_type": "execute_result",
          "data": {
            "image/png": "[encoded data removed]",
            "text/plain": [
              "<IPython.core.display.Image object>"
            ]
          },
          "metadata": {},
          "execution_count": 12
        }
      ]
    },
    {
      "cell_type": "code",
      "metadata": {
        "id": "D629rQ6hCX5H"
      },
      "source": [
        "##--- 4) Compilation\n",
        "# loss='categorical_crossentropy' (classification multiclasses)\n",
        "# optimisation par descente de gradient\n",
        "# métrique d'évaluation est la accuracy = (TP+TN)/(TP+FP+TN+FN)\n",
        "sgd = SGD(0.01)\n",
        "model.compile(loss='categorical_crossentropy',optimizer=\"sgd\",metrics=['accuracy'])"
      ],
      "execution_count": 13,
      "outputs": []
    },
    {
      "cell_type": "code",
      "metadata": {
        "colab": {
          "base_uri": "https://localhost:8080/"
        },
        "id": "Q36RC5gcHyjz",
        "outputId": "37420348-8f66-4abf-b7a6-05961aaab1d7"
      },
      "source": [
        "##--- 5) Apprentissage\n",
        "H = model.fit(trainX, trainY, validation_data=(testX, testY), epochs=5, batch_size=32)"
      ],
      "execution_count": 14,
      "outputs": [
        {
          "output_type": "stream",
          "name": "stdout",
          "text": [
            "Epoch 1/5\n",
            "1563/1563 [==============================] - 17s 11ms/step - loss: 1.6610 - accuracy: 0.4152 - val_loss: 1.5304 - val_accuracy: 0.4567\n",
            "Epoch 2/5\n",
            "1563/1563 [==============================] - 16s 10ms/step - loss: 1.4211 - accuracy: 0.5011 - val_loss: 1.4512 - val_accuracy: 0.4915\n",
            "Epoch 3/5\n",
            "1563/1563 [==============================] - 16s 10ms/step - loss: 1.3063 - accuracy: 0.5443 - val_loss: 1.4225 - val_accuracy: 0.5068\n",
            "Epoch 4/5\n",
            "1563/1563 [==============================] - 16s 10ms/step - loss: 1.2160 - accuracy: 0.5782 - val_loss: 1.3926 - val_accuracy: 0.5137\n",
            "Epoch 5/5\n",
            "1563/1563 [==============================] - 16s 10ms/step - loss: 1.1350 - accuracy: 0.6070 - val_loss: 1.4060 - val_accuracy: 0.5173\n"
          ]
        }
      ]
    },
    {
      "cell_type": "code",
      "metadata": {
        "colab": {
          "base_uri": "https://localhost:8080/"
        },
        "id": "KqiiIa4qH7Be",
        "outputId": "507341af-8ca5-407b-ccd6-558b1733b62c"
      },
      "source": [
        "print(H.history)"
      ],
      "execution_count": 15,
      "outputs": [
        {
          "output_type": "stream",
          "name": "stdout",
          "text": [
            "{'loss': [1.6610134840011597, 1.4211130142211914, 1.3062914609909058, 1.2159770727157593, 1.1349732875823975], 'accuracy': [0.4151799976825714, 0.5010799765586853, 0.5442799925804138, 0.5781999826431274, 0.60698002576828], 'val_loss': [1.5304479598999023, 1.4511756896972656, 1.4224812984466553, 1.3926268815994263, 1.405960202217102], 'val_accuracy': [0.45669999718666077, 0.49149999022483826, 0.5067999958992004, 0.513700008392334, 0.517300009727478]}\n"
          ]
        }
      ]
    },
    {
      "cell_type": "code",
      "metadata": {
        "colab": {
          "base_uri": "https://localhost:8080/"
        },
        "id": "UJdcbRCLIcLI",
        "outputId": "1e3b379d-3cf6-42b9-df55-190e8e5102d9"
      },
      "source": [
        "##--- 6) Validation\n",
        "score=model.evaluate(testX, testY, verbose=0)\n",
        "print('Test Accuracy : ', score[1])"
      ],
      "execution_count": 16,
      "outputs": [
        {
          "output_type": "stream",
          "name": "stdout",
          "text": [
            "Test Accuracy :  0.517300009727478\n"
          ]
        }
      ]
    },
    {
      "cell_type": "code",
      "metadata": {
        "colab": {
          "base_uri": "https://localhost:8080/"
        },
        "id": "go32Pe__I9yv",
        "outputId": "9cb13c43-d07d-4f40-df13-8db05e0a083c"
      },
      "source": [
        "##--- 7) prédiction\n",
        "predictions = model.predict(testX, batch_size=32)\n",
        "print(classification_report(testY.argmax(axis=1),\n",
        "predictions.argmax(axis=1), target_names=labelNames))"
      ],
      "execution_count": 17,
      "outputs": [
        {
          "output_type": "stream",
          "name": "stdout",
          "text": [
            "              precision    recall  f1-score   support\n",
            "\n",
            "    airplane       0.53      0.67      0.59      1000\n",
            "  automobile       0.60      0.64      0.61      1000\n",
            "        bird       0.43      0.38      0.40      1000\n",
            "         cat       0.40      0.25      0.31      1000\n",
            "        deer       0.45      0.39      0.42      1000\n",
            "         dog       0.47      0.41      0.44      1000\n",
            "        frog       0.45      0.69      0.55      1000\n",
            "       horse       0.56      0.58      0.57      1000\n",
            "        ship       0.66      0.63      0.65      1000\n",
            "       truck       0.58      0.53      0.56      1000\n",
            "\n",
            "    accuracy                           0.52     10000\n",
            "   macro avg       0.51      0.52      0.51     10000\n",
            "weighted avg       0.51      0.52      0.51     10000\n",
            "\n"
          ]
        }
      ]
    },
    {
      "cell_type": "code",
      "metadata": {
        "id": "ut2B627tJCX6"
      },
      "source": [
        "##--- 8) sauvegarde du modèle\n",
        "#sauvegarde\n",
        "model.save('model.h5')\n",
        "jsonModel = model.to_json()\n",
        "model.save_weights('modelWeight.h5')"
      ],
      "execution_count": 18,
      "outputs": []
    },
    {
      "cell_type": "code",
      "metadata": {
        "id": "RtBuWFVcJTy-"
      },
      "source": [
        "#téléchargement\n",
        "modelWt=model.load_weights('modelWeight.h5')"
      ],
      "execution_count": 19,
      "outputs": []
    }
  ]
}